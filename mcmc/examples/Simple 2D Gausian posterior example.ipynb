{
 "cells": [
  {
   "cell_type": "markdown",
   "metadata": {},
   "source": [
    "# Toy example for the Metropolis MCMC algorithm\n",
    "\n",
    "In this example, the Metropolis algorithm is used to sample the function fmodel.\n",
    "\n",
    "To use the mcmc toolbox, one need to define three functions with the following signatures:\n",
    "\n",
    "### The proposal\n",
    "\n",
    "```python\n",
    "def proposal(x, prop_S):\n",
    "    \"\"\"\n",
    "    x : 1D numpy array \n",
    "        The vector containing the variables to sample\n",
    "    \n",
    "    prop_S : 1D numpy array\n",
    "        A vector with the same shape as x containing the standard deviation for the proposal function\n",
    "\n",
    "    xp : 1D numpy array \n",
    "        The proposed sample, same shape as x. It should be a small perturbation from the sample x.\n",
    "    \"\"\"\n",
    "    ...\n",
    "    return xp\n",
    "```\n",
    "\n",
    "In this scenario, the proposal is to perturb one element of x witha random number drawn from a gaussian distribution with 0 mean and standard deviation from prop_S.\n",
    "    \n",
    "### The (log) prior\n",
    "\n",
    "```python\n",
    "def logprior(x):\n",
    "    ...\n",
    "    return logp\n",
    "```\n",
    "\n",
    "Returns le log of the prior probability of sample x. In this scenario, the prior is uniform on [-4, 4]²\n",
    "\n",
    "\n",
    "### The loglikelihood\n",
    "\n",
    "```python\n",
    "def loglikelihood(x):\n",
    "    ...\n",
    "    return loglike\n",
    "```\n",
    "\n",
    "The loglikelihood function is the Bayesian equivalent of the misfit function. From sample x, build a model and compute a replicate of the data observables. This replicate is compared to the data using a mahalanobis distance. This corresponds to a Gaussian model for the data distribution.\n",
    "\n",
    "    \n"
   ]
  },
  {
   "cell_type": "code",
   "execution_count": 1,
   "metadata": {
    "scrolled": true
   },
   "outputs": [],
   "source": [
    "import os\n",
    "import sys\n",
    "sys.path.insert(0, os.path.abspath('../../'))\n",
    "\n",
    "\n",
    "# Imports\n",
    "import numpy as np\n",
    "from matplotlib import pyplot as plt\n",
    "import seaborn as sns\n",
    "\n",
    "from mcmc.metropolis import Metropolis1dStep\n"
   ]
  },
  {
   "cell_type": "code",
   "execution_count": 2,
   "metadata": {},
   "outputs": [],
   "source": [
    "# The (unkown) function to sample from\n",
    "def fmodel(a,b):\n",
    "    x1 = (a-2.)/0.5\n",
    "    y1 = b/2\n",
    "    x2 = a/1.8\n",
    "    y2 = (b-1.8)/0.7\n",
    "    x3 = (a+1)/1.2\n",
    "    y3 = (b+1)/0.6\n",
    "\n",
    "    return 0.7*np.exp(-(x1**2+y1**2))+1.3*np.exp(-(x2**2+y2**2))+2.*np.exp(-(x3**2+y3**2));"
   ]
  },
  {
   "cell_type": "markdown",
   "metadata": {},
   "source": [
    "The unkown here is a function of two variables a and b. We simply parametrize the space to sample as a vector x=(a,b). But we could use anything relating x to a and b, something more complex for example.\n",
    "\n",
    "A sample of fmodel can be drawn by calling the function"
   ]
  },
  {
   "cell_type": "code",
   "execution_count": 3,
   "metadata": {},
   "outputs": [
    {
     "data": {
      "text/plain": [
       "1.5989447201063809e-10"
      ]
     },
     "execution_count": 3,
     "metadata": {},
     "output_type": "execute_result"
    }
   ],
   "source": [
    "# Example\n",
    "x = (4,5)\n",
    "fmodel(*x)\n"
   ]
  },
  {
   "cell_type": "markdown",
   "metadata": {},
   "source": [
    "Let's see whats this function looks like"
   ]
  },
  {
   "cell_type": "code",
   "execution_count": 4,
   "metadata": {},
   "outputs": [
    {
     "data": {
      "text/plain": [
       "<matplotlib.colorbar.Colorbar at 0x7f7fd6690b80>"
      ]
     },
     "execution_count": 4,
     "metadata": {},
     "output_type": "execute_result"
    },
    {
     "data": {
      "image/png": "[encoded data removed]",
      "text/plain": [
       "<Figure size 432x288 with 2 Axes>"
      ]
     },
     "metadata": {
      "needs_background": "light"
     },
     "output_type": "display_data"
    }
   ],
   "source": [
    "xx = np.linspace(-4, 4, 100)\n",
    "yy = np.linspace(-4, 4, 100)\n",
    "xx, yy = np.meshgrid(xx, yy)\n",
    "zz = fmodel(xx, yy)\n",
    "plt.figure()\n",
    "plt.contourf(xx, yy, zz, 20)\n",
    "plt.xlabel('X')\n",
    "plt.ylabel('Y')\n",
    "plt.colorbar()"
   ]
  },
  {
   "cell_type": "code",
   "execution_count": 5,
   "metadata": {},
   "outputs": [],
   "source": [
    "# The proposal\n",
    "def proposal(x, std):\n",
    "    assert(x.size == std.size)\n",
    "    xp = np.copy(x)\n",
    "    # get the size of vector x\n",
    "    n = x.size\n",
    "    # Chose a random element in vector x\n",
    "    i = np.random.randint(0, n)\n",
    "    # Add a small perturbation\n",
    "    dx = np.random.normal(0., std[i])\n",
    "    xp[i] += dx\n",
    "    return xp"
   ]
  },
  {
   "cell_type": "code",
   "execution_count": 6,
   "metadata": {},
   "outputs": [],
   "source": [
    "# The log prior\n",
    "# The prior 0 outside the bounds. Inside the bounds, it is 1/(domain size).\n",
    "bounds = (-4, 4)\n",
    "\n",
    "def prior(x):\n",
    "    logprior = 0\n",
    "    if any(x[i] < bounds[0] or x[i] > bounds[1] for i in range(x.size)):\n",
    "        logprior = -np.inf  # log(0)\n",
    "    else:\n",
    "        # This is optional because it does not depend on x value, I put it for clarity\n",
    "        for i in range(x.size):\n",
    "            logprior += -np.log(bounds[1] - bounds[0])\n",
    "    return logprior\n",
    "            "
   ]
  },
  {
   "cell_type": "code",
   "execution_count": 7,
   "metadata": {},
   "outputs": [],
   "source": [
    "# The loglikelihood\n",
    "# In this toy example, we sample fmodel. In future applications, the loglikelihood is the negative of the misfit. \n",
    "\n",
    "# To compute the value of fmodel at a point x, as seen above, it is simply calling fmodel\n",
    "def loglike(x):\n",
    "    a, b = x[0], x[1]\n",
    "    return np.log(fmodel(a, b))\n"
   ]
  },
  {
   "cell_type": "markdown",
   "metadata": {},
   "source": [
    "Now we have all the elements to build the MCMC algorithm"
   ]
  },
  {
   "cell_type": "code",
   "execution_count": 8,
   "metadata": {},
   "outputs": [],
   "source": [
    "chain = Metropolis1dStep()\n",
    "chain.proposal = proposal\n",
    "chain.prop_S = np.array([2., 2.])\n",
    "chain.logprior = prior\n",
    "chain.loglikelihood = loglike\n",
    "chain.show_stats = 10000\n",
    "\n",
    "# Select a random starting point\n",
    "a0 = -4 + np.random.rand()*8\n",
    "b0 = -4 + np.random.rand()*8\n",
    "x0 = np.array([a0, b0])\n",
    "\n",
    "# Number of samples\n",
    "n_samples = 20000\n",
    "n_tune = 0\n",
    "\n",
    "# Record some statistics\n",
    "chain.add_stat(\"loglikelihood\")"
   ]
  },
  {
   "cell_type": "code",
   "execution_count": null,
   "metadata": {},
   "outputs": [
    {
     "name": "stdout",
     "output_type": "stream",
     "text": [
      "Start Metropolis1dStep\n",
      "----------------------\n",
      "number of saved samples\n",
      "20000\n"
     ]
    }
   ],
   "source": [
    "# Run the algorithm\n",
    "\n",
    "chain.run(x0, n_samples, tune=n_tune, tune_interval=1000,\n",
    "            discard_tuned_samples=False, thin=1)\n",
    "\n",
    "print(\"Total duration:\")\n",
    "print(chain.duration)"
   ]
  },
  {
   "cell_type": "markdown",
   "metadata": {},
   "source": [
    "## Plotting\n",
    "\n",
    "Here are some first examples of things to plot:\n",
    "\n",
    "- \"trace plots\" : its a line plot showing the evolution of a certain quantity during the iterations. It is used mainly to check the convergence of the chain\n",
    "\n",
    "- \"posterior distribution\" : this is the main result of the algorithm. Easy to plot here in 2D, more difficult to visualize in higher dimensions\n",
    "\n",
    "- \"marginals\" : the marginal distribution of a variable is its 1D distribution, that is summed over all the other possible values for the other variables."
   ]
  },
  {
   "cell_type": "code",
   "execution_count": null,
   "metadata": {},
   "outputs": [],
   "source": [
    "# Some trace plots\n",
    "plt.figure()\n",
    "plt.plot(chain.stats[\"loglikelihood\"])"
   ]
  },
  {
   "cell_type": "code",
   "execution_count": null,
   "metadata": {},
   "outputs": [],
   "source": [
    "# Plot the posterior samples\n",
    "plt.figure()\n",
    "plt.scatter(chain.samples[:, 0], chain.samples[:, 1], s=0.1)\n",
    "plt.xlabel('X')\n",
    "plt.ylabel('Y')\n",
    "\n",
    "plt.figure()\n",
    "plt.plot(chain.samples[:, 0], chain.samples[:, 1])\n",
    "plt.xlabel('X')\n",
    "plt.ylabel('Y')"
   ]
  },
  {
   "cell_type": "code",
   "execution_count": null,
   "metadata": {},
   "outputs": [],
   "source": [
    "# Same plot as a 2D histogram\n",
    "plt.figure()\n",
    "h = plt.hist2d(chain.samples[:, 0], chain.samples[:, 1], bins=(50,50))\n",
    "plt.colorbar()\n",
    "plt.xlabel('X')\n",
    "plt.ylabel('Y')"
   ]
  },
  {
   "cell_type": "code",
   "execution_count": null,
   "metadata": {},
   "outputs": [],
   "source": [
    "# Marginals are 1D histograms\n",
    "# 1) for X\n",
    "plt.figure()\n",
    "sns.histplot(chain.samples[:, 0], kde=True)\n",
    "plt.xlabel('X')\n",
    "\n",
    "# 2) for Y\n",
    "plt.figure()\n",
    "sns.histplot(chain.samples[:, 1], kde=True)\n",
    "plt.xlabel('Y')"
   ]
  },
  {
   "cell_type": "markdown",
   "metadata": {},
   "source": [
    "### Test linking with arviz for visualization"
   ]
  },
  {
   "cell_type": "code",
   "execution_count": null,
   "metadata": {},
   "outputs": [],
   "source": [
    "import arviz\n",
    "# Transform results to a arviz dataset\n",
    "dataset = chain.get_results(format='arviz')\n",
    "\n",
    "# Test read/write to netCDF format\n",
    "# Save it\n",
    "dataset.to_netcdf(\"test_results_arviz.nc\")\n",
    "# Load it again\n",
    "dataset = arviz.from_netcdf(\"test_results_arviz.nc\")"
   ]
  },
  {
   "cell_type": "markdown",
   "metadata": {},
   "source": [
    "### Some plots examples"
   ]
  },
  {
   "cell_type": "code",
   "execution_count": null,
   "metadata": {},
   "outputs": [],
   "source": [
    "# Trace plots\n",
    "arviz.plot_trace(dataset)"
   ]
  },
  {
   "cell_type": "code",
   "execution_count": null,
   "metadata": {},
   "outputs": [],
   "source": [
    "# Density plots for the posterior\n",
    "arviz.plot_density(dataset,\n",
    "    var_names=[\"x\"],\n",
    "    shade=0.1,)\n",
    "\n",
    "# Loglikelihood density\n",
    "arviz.plot_density(dataset,\n",
    "    group=\"log_likelihood\",\n",
    "    shade=0.1,)"
   ]
  },
  {
   "cell_type": "code",
   "execution_count": null,
   "metadata": {},
   "outputs": [],
   "source": [
    "# Autocorrelation plot\n",
    "arviz.plot_autocorr(dataset, var_names=(\"x\"))"
   ]
  },
  {
   "cell_type": "code",
   "execution_count": null,
   "metadata": {},
   "outputs": [],
   "source": [
    "# 2D density plot\n",
    "arviz.plot_kde(\n",
    "    dataset.posterior.x.values[0, :, 0],\n",
    "    dataset.posterior.x.values[0, :, 1],\n",
    "    contour_kwargs={\"colors\": None, \"cmap\": plt.cm.viridis, \"levels\": 30},\n",
    "    contourf_kwargs={\"alpha\": 0.5, \"levels\": 30},\n",
    ")"
   ]
  },
  {
   "cell_type": "code",
   "execution_count": null,
   "metadata": {},
   "outputs": [],
   "source": []
  }
 ],
 "metadata": {
  "kernelspec": {
   "display_name": "Python 3",
   "language": "python",
   "name": "python3"
  },
  "language_info": {
   "codemirror_mode": {
    "name": "ipython",
    "version": 3
   },
   "file_extension": ".py",
   "mimetype": "text/x-python",
   "name": "python",
   "nbconvert_exporter": "python",
   "pygments_lexer": "ipython3",
   "version": "3.8.6"
  }
 },
 "nbformat": 4,
 "nbformat_minor": 4
}
